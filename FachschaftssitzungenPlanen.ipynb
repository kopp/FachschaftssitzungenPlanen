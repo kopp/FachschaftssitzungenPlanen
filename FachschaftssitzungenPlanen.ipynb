{
 "cells": [
  {
   "cell_type": "markdown",
   "metadata": {},
   "source": [
    "# Fachschaftssitzungen planen"
   ]
  },
  {
   "cell_type": "markdown",
   "metadata": {},
   "source": [
    "Hier sind die Daten für die Fachschaftssitzungen in Form eines Python-Dictionary.\n",
    "Um diese Daten zu ändern, muss man sie anklicken, modifizieren und dann mit _Shift + Enter_ die Änderungen bestätigen.\n",
    "Damit die folgenden Zellen diese Daten dann auch verwenden, kann man das kleine _Play_-Symbol oben klicken und sieht immer, welche Zelle gerade berechnet wird, oder klickt auf das _Fast Forward_-Symbol um alle Zellen auszuführen.\n",
    "\n",
    "_Achtung_: Wenn dieses Dokument auf mybinder.org läuft, dann werden die Daten dort nicht gespeichert.\n",
    "Möchte man das Programm eventuell mehrmals laufen lassen, sollte man sich die folgende Eingabe irgendwo speichern und kann sie dann wieder an dieser Stelle einfügen.\n",
    "\n",
    "Vor dem `:` ist der Name der Fachschaft, dahinter ein `set` (eine Menge) von Kürzeln für die Lehrer, die zu dieser Fachschaft gehören:"
   ]
  },
  {
   "cell_type": "code",
   "execution_count": 1,
   "metadata": {},
   "outputs": [],
   "source": [
    "lehrer_in_fachschaft = {\n",
    "    'Mathe': set(['Be', 'Ho']),\n",
    "    'Physik': set(['Ho', 'Kp']),\n",
    "    'Chemie': set(['Be', 'Fo']),\n",
    "    'NWT': set(['Kp', 'Ho']),\n",
    "    'Deutsch': set(['Fo', 'Li']),\n",
    "}"
   ]
  },
  {
   "cell_type": "markdown",
   "metadata": {},
   "source": [
    "Jetzt können wir alle möglichen Kombinationen finden, wann zwei Fachschaftssitzungen parallel stattfinden können.\n",
    "Dazu wählen wir eine Fachschaft aus und testen, welche andere Fachschaft parallel tagen kann, weil keiner der Angehörigen der anderen Fachschaft in der ersten Sitzung war.\n",
    "\n",
    "Das geht genau dann, wenn die Mengen der Teilnehmer disjunkt sind, also wenn die Schnittmenge leer ist; bspw.\n"
   ]
  },
  {
   "cell_type": "code",
   "execution_count": 2,
   "metadata": {},
   "outputs": [
    {
     "data": {
      "text/plain": [
       "set()"
      ]
     },
     "execution_count": 2,
     "metadata": {},
     "output_type": "execute_result"
    }
   ],
   "source": [
    "lehrer_in_fachschaft['Mathe'].intersection(lehrer_in_fachschaft['Deutsch'])"
   ]
  },
  {
   "cell_type": "markdown",
   "metadata": {},
   "source": [
    "Diese Logik gießen wir in zwei Funktionen, mit denen wir einfach abfragen können, ob zwei oder mehrere Fachschaften gleichzeitig tagen können:"
   ]
  },
  {
   "cell_type": "code",
   "execution_count": 3,
   "metadata": {},
   "outputs": [],
   "source": [
    "def kann_parallel_stattfinden(fachschaft1, fachschaft2):\n",
    "    return lehrer_in_fachschaft[fachschaft1].intersection(lehrer_in_fachschaft[fachschaft2]) == set()\n",
    "\n",
    "def kann_im_termin_stattfinden(fachschaften_im_termin, andere_fachschaft):\n",
    "    for fachschaft in fachschaften_im_termin:\n",
    "        if not kann_parallel_stattfinden(fachschaft, andere_fachschaft):\n",
    "            return False\n",
    "    return True"
   ]
  },
  {
   "cell_type": "markdown",
   "metadata": {},
   "source": [
    "Es gibt mehrere verschiedene Möglichkeiten, wie man die Fachschaften parallel tagen lassen kann.\n",
    "A priori ist keine davon _besser_ als eine andere.\n",
    "Um das entscheiden zu können, müsste man eine _Metrik_ definieren.\n",
    "So lange es so was nicht gibt, kann man aber mal ein paar verschiedene Möglichkeiten durchprobieren.\n",
    "\n",
    "Im folgenden `for`-Loop iterieren wir über die verschiedenen Möglichkeiten, welche Fachschaft wir als _erste_ betrachten wollen.\n",
    "Diese fügen wir als einzigen fest stehenden Teil in `termine` ein und entfernen sie gleichzeitig aus den `noch_zu_planen`den Fachschaften.\n",
    "Danach gehen wir weiter durch die `noch_zu_planen`den Fachschaften und entfernen immer eine (mit `pop`), die wir `jetzt_verplanen` wollen.\n",
    "\n",
    "Dann gehen wir durch die Termine, die wir bisher schon haben und schauen, ob die `jetzt_verplanen` Fachschaft parallel dazu stattfinden kann.\n",
    "Wenn ja, fügen wir ihn in diese Terminschiene hinzu.\n",
    "Wenn es nicht geht, dann starten wir eine neue Terminschiene damit.\n",
    "\n",
    "_Achtung:_\n",
    "An dem Algorithmus ist willkürlich\n",
    "\n",
    "1. wie die `jetzt_verplanen` Fachschaft gewählt wird\n",
    "2. in welcher Reihenfolge die termine abgelaufen werden (aktuell von \"früh\" nach \"spät\")\n",
    "\n",
    "Beides müsste man mit einer _Heuristik_ oder _Metrik_ machen, um bessere von schlechteren Lösungen unterscheiden zu können.\n",
    "(Eine _Low-Hanging-Fruit_ wäre, alles rauszuschmeißen, was die gleichen Kombinationen, nur in anderer Reihenfolge hat...)"
   ]
  },
  {
   "cell_type": "code",
   "execution_count": 4,
   "metadata": {},
   "outputs": [
    {
     "name": "stdout",
     "output_type": "stream",
     "text": [
      "Wenn man als erste Fachschaft Mathe terminiert, dann kann man wie folgt planen: [{'Mathe', 'Deutsch'}, {'Chemie', 'NWT'}, {'Physik'}]\n",
      "Wenn man als erste Fachschaft Physik terminiert, dann kann man wie folgt planen: [{'Physik', 'Deutsch'}, {'Chemie', 'NWT'}, {'Mathe'}]\n",
      "Wenn man als erste Fachschaft Chemie terminiert, dann kann man wie folgt planen: [{'Chemie', 'NWT'}, {'Physik', 'Deutsch'}, {'Mathe'}]\n",
      "Wenn man als erste Fachschaft NWT terminiert, dann kann man wie folgt planen: [{'Deutsch', 'NWT'}, {'Physik', 'Chemie'}, {'Mathe'}]\n",
      "Wenn man als erste Fachschaft Deutsch terminiert, dann kann man wie folgt planen: [{'NWT', 'Deutsch'}, {'Physik', 'Chemie'}, {'Mathe'}]\n"
     ]
    }
   ],
   "source": [
    "fachschaften = list(lehrer_in_fachschaft.keys())\n",
    "\n",
    "kombinationen = []\n",
    "\n",
    "for nummer_erste_fachschaft in range(len(fachschaften)):\n",
    "    termine = []\n",
    "    noch_zu_planen = fachschaften.copy()\n",
    "    erste_sitzung = noch_zu_planen.pop(nummer_erste_fachschaft)\n",
    "    termine.append(set([erste_sitzung]))\n",
    "    while noch_zu_planen:\n",
    "        jetzt_verplanen = noch_zu_planen.pop()\n",
    "        ist_verplant = False\n",
    "        for termin in termine:\n",
    "            if kann_im_termin_stattfinden(termin, jetzt_verplanen):\n",
    "                termin.add(jetzt_verplanen)\n",
    "                ist_verplant = True\n",
    "                break\n",
    "        if not ist_verplant:\n",
    "            termine.append(set([jetzt_verplanen]))\n",
    "    print(\"Wenn man als erste Fachschaft {} terminiert, dann kann man wie folgt planen: {}\".format(\n",
    "        fachschaften[nummer_erste_fachschaft], termine\n",
    "    ))\n",
    "    kombinationen.append(termine)"
   ]
  },
  {
   "cell_type": "markdown",
   "metadata": {},
   "source": [
    "Jetzt können wir diese Ergebnisse noch schön als Tabelle ausgeben:"
   ]
  },
  {
   "cell_type": "code",
   "execution_count": 5,
   "metadata": {},
   "outputs": [
    {
     "data": {
      "text/markdown": [
       "Variante 1\n",
       "\n",
       "| Schiene 1 | Schiene 2 |\n",
       "| --------- | --------- |\n",
       "| Mathe | Deutsch |\n",
       "| Chemie | NWT |\n",
       "| Physik   | |\n",
       "\n",
       "\n",
       "-------\n"
      ],
      "text/plain": [
       "<IPython.core.display.Markdown object>"
      ]
     },
     "metadata": {},
     "output_type": "display_data"
    },
    {
     "data": {
      "text/markdown": [
       "Variante 2\n",
       "\n",
       "| Schiene 1 | Schiene 2 |\n",
       "| --------- | --------- |\n",
       "| Physik | Deutsch |\n",
       "| Chemie | NWT |\n",
       "| Mathe   | |\n",
       "\n",
       "\n",
       "-------\n"
      ],
      "text/plain": [
       "<IPython.core.display.Markdown object>"
      ]
     },
     "metadata": {},
     "output_type": "display_data"
    },
    {
     "data": {
      "text/markdown": [
       "Variante 3\n",
       "\n",
       "| Schiene 1 | Schiene 2 |\n",
       "| --------- | --------- |\n",
       "| Chemie | NWT |\n",
       "| Physik | Deutsch |\n",
       "| Mathe   | |\n",
       "\n",
       "\n",
       "-------\n"
      ],
      "text/plain": [
       "<IPython.core.display.Markdown object>"
      ]
     },
     "metadata": {},
     "output_type": "display_data"
    },
    {
     "data": {
      "text/markdown": [
       "Variante 4\n",
       "\n",
       "| Schiene 1 | Schiene 2 |\n",
       "| --------- | --------- |\n",
       "| Deutsch | NWT |\n",
       "| Physik | Chemie |\n",
       "| Mathe   | |\n",
       "\n",
       "\n",
       "-------\n"
      ],
      "text/plain": [
       "<IPython.core.display.Markdown object>"
      ]
     },
     "metadata": {},
     "output_type": "display_data"
    },
    {
     "data": {
      "text/markdown": [
       "Variante 5\n",
       "\n",
       "| Schiene 1 | Schiene 2 |\n",
       "| --------- | --------- |\n",
       "| NWT | Deutsch |\n",
       "| Physik | Chemie |\n",
       "| Mathe   | |\n",
       "\n",
       "\n",
       "-------\n"
      ],
      "text/plain": [
       "<IPython.core.display.Markdown object>"
      ]
     },
     "metadata": {},
     "output_type": "display_data"
    }
   ],
   "source": [
    "def anzahl_benoetigter_schienen(termine):\n",
    "    anzahl = 0\n",
    "    for termin in termine:\n",
    "        anzahl = max(anzahl, len(termin))\n",
    "    return anzahl\n",
    "\n",
    "\n",
    "from IPython.display import display, Markdown, Latex\n",
    "\n",
    "variante = 1\n",
    "for termine in kombinationen:\n",
    "    schienen = anzahl_benoetigter_schienen(termine)\n",
    "    text = 'Variante {}\\n\\n'.format(variante)\n",
    "    variante += 1\n",
    "    text += '| ' + ' | '.join([\"Schiene {}\".format(nr + 1) for nr in range(schienen)]) + ' |\\n'\n",
    "    text += '| --------- ' * schienen + '|\\n'\n",
    "    for schiene in termine:\n",
    "        text += '| ' + ' | '.join([t for t in schiene])\n",
    "        text += '   |' * (schienen - len(schiene))  # auffuellen, wenn zu wenige Fachschaften tagen\n",
    "        text += ' |\\n'\n",
    "    text += '\\n\\n-------\\n'\n",
    "    display(Markdown(text))"
   ]
  },
  {
   "cell_type": "code",
   "execution_count": null,
   "metadata": {},
   "outputs": [],
   "source": []
  }
 ],
 "metadata": {
  "kernelspec": {
   "display_name": "Python 3",
   "language": "python",
   "name": "python3"
  },
  "language_info": {
   "codemirror_mode": {
    "name": "ipython",
    "version": 3
   },
   "file_extension": ".py",
   "mimetype": "text/x-python",
   "name": "python",
   "nbconvert_exporter": "python",
   "pygments_lexer": "ipython3",
   "version": "3.8.0"
  }
 },
 "nbformat": 4,
 "nbformat_minor": 4
}
